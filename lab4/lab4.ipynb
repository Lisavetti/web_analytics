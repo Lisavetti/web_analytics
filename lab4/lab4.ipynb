{
  "nbformat": 4,
  "nbformat_minor": 0,
  "metadata": {
    "colab": {
      "provenance": []
    },
    "kernelspec": {
      "name": "python3",
      "display_name": "Python 3"
    },
    "language_info": {
      "name": "python"
    }
  },
  "cells": [
    {
      "cell_type": "code",
      "source": [
        "pip install requests beautifulsoup4 pandas\n"
      ],
      "metadata": {
        "colab": {
          "base_uri": "https://localhost:8080/"
        },
        "id": "ELpRXsXHkQpx",
        "outputId": "faa59347-9e8a-479b-f936-ff24f984d21b"
      },
      "execution_count": 8,
      "outputs": [
        {
          "output_type": "stream",
          "name": "stdout",
          "text": [
            "Requirement already satisfied: requests in /usr/local/lib/python3.10/dist-packages (2.31.0)\n",
            "Requirement already satisfied: beautifulsoup4 in /usr/local/lib/python3.10/dist-packages (4.12.3)\n",
            "Requirement already satisfied: pandas in /usr/local/lib/python3.10/dist-packages (2.0.3)\n",
            "Requirement already satisfied: charset-normalizer<4,>=2 in /usr/local/lib/python3.10/dist-packages (from requests) (3.3.2)\n",
            "Requirement already satisfied: idna<4,>=2.5 in /usr/local/lib/python3.10/dist-packages (from requests) (3.7)\n",
            "Requirement already satisfied: urllib3<3,>=1.21.1 in /usr/local/lib/python3.10/dist-packages (from requests) (2.0.7)\n",
            "Requirement already satisfied: certifi>=2017.4.17 in /usr/local/lib/python3.10/dist-packages (from requests) (2024.2.2)\n",
            "Requirement already satisfied: soupsieve>1.2 in /usr/local/lib/python3.10/dist-packages (from beautifulsoup4) (2.5)\n",
            "Requirement already satisfied: python-dateutil>=2.8.2 in /usr/local/lib/python3.10/dist-packages (from pandas) (2.8.2)\n",
            "Requirement already satisfied: pytz>=2020.1 in /usr/local/lib/python3.10/dist-packages (from pandas) (2023.4)\n",
            "Requirement already satisfied: tzdata>=2022.1 in /usr/local/lib/python3.10/dist-packages (from pandas) (2024.1)\n",
            "Requirement already satisfied: numpy>=1.21.0 in /usr/local/lib/python3.10/dist-packages (from pandas) (1.25.2)\n",
            "Requirement already satisfied: six>=1.5 in /usr/local/lib/python3.10/dist-packages (from python-dateutil>=2.8.2->pandas) (1.16.0)\n"
          ]
        }
      ]
    },
    {
      "cell_type": "code",
      "source": [
        "import requests\n",
        "from bs4 import BeautifulSoup\n",
        "import pandas as pd\n",
        "\n",
        "# URL RSS-каналу новин\n",
        "rss_url = 'http://feeds.bbci.co.uk/news/rss.xml'\n",
        "\n",
        "# Отримання даних з RSS-каналу\n",
        "response = requests.get(rss_url)\n",
        "soup = BeautifulSoup(response.content, features='xml')\n",
        "\n",
        "# Збір новин\n",
        "items = soup.findAll('item')\n",
        "news_items = []\n",
        "for item in items:\n",
        "    news = {}\n",
        "    news['title'] = item.title.text\n",
        "    news['description'] = item.description.text\n",
        "    news['pubDate'] = item.pubDate.text\n",
        "    news['link'] = item.link.text\n",
        "    news_items.append(news)\n",
        "\n",
        "# Перетворення даних у DataFrame\n",
        "df = pd.DataFrame(news_items)\n",
        "\n",
        "# Збереження даних у CSV-файл\n",
        "df.to_csv('bbc_news.csv', index=False)\n",
        "\n",
        "print(f\"Зібрано {len(df)} новин.\")\n"
      ],
      "metadata": {
        "colab": {
          "base_uri": "https://localhost:8080/"
        },
        "id": "QTCZ0giDkUJM",
        "outputId": "266d7868-00a6-4bfe-e7b2-6e4263d297cb"
      },
      "execution_count": 9,
      "outputs": [
        {
          "output_type": "stream",
          "name": "stdout",
          "text": [
            "Зібрано 89 новин.\n"
          ]
        }
      ]
    },
    {
      "cell_type": "code",
      "source": [
        "rss_urls = [\n",
        "    'http://feeds.bbci.co.uk/news/rss.xml',\n",
        "    'http://feeds.bbci.co.uk/news/world/rss.xml',\n",
        "    'http://feeds.bbci.co.uk/news/technology/rss.xml'\n",
        "]\n",
        "\n",
        "news_items = []\n",
        "\n",
        "for rss_url in rss_urls:\n",
        "    response = requests.get(rss_url)\n",
        "    soup = BeautifulSoup(response.content, features='xml')\n",
        "    items = soup.findAll('item')\n",
        "    for item in items:\n",
        "        news = {}\n",
        "        news['title'] = item.title.text\n",
        "        news['description'] = item.description.text\n",
        "        news['pubDate'] = item.pubDate.text\n",
        "        news['link'] = item.link.text\n",
        "        news_items.append(news)\n",
        "\n",
        "df = pd.DataFrame(news_items)\n",
        "df.to_csv('bbc_news_large.csv', index=False)\n",
        "\n",
        "print(f\"Зібрано {len(df)} новин.\")\n"
      ],
      "metadata": {
        "colab": {
          "base_uri": "https://localhost:8080/"
        },
        "id": "fCISk1k1kYqi",
        "outputId": "cad4df90-d278-4556-a42c-933bf90e3b99"
      },
      "execution_count": 10,
      "outputs": [
        {
          "output_type": "stream",
          "name": "stdout",
          "text": [
            "Зібрано 187 новин.\n"
          ]
        }
      ]
    }
  ]
}