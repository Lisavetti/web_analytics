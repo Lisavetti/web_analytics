{
  "nbformat": 4,
  "nbformat_minor": 0,
  "metadata": {
    "colab": {
      "provenance": []
    },
    "kernelspec": {
      "name": "python3",
      "display_name": "Python 3"
    },
    "language_info": {
      "name": "python"
    }
  },
  "cells": [
    {
      "cell_type": "code",
      "source": [
        "pip install asyncpraw\n"
      ],
      "metadata": {
        "colab": {
          "base_uri": "https://localhost:8080/"
        },
        "id": "XYRXpuOTmjzL",
        "outputId": "c966a7fb-0229-41e7-d66b-5fcf025760e7"
      },
      "execution_count": 11,
      "outputs": [
        {
          "output_type": "stream",
          "name": "stdout",
          "text": [
            "Collecting asyncpraw\n",
            "  Downloading asyncpraw-7.7.1-py3-none-any.whl (196 kB)\n",
            "\u001b[2K     \u001b[90m━━━━━━━━━━━━━━━━━━━━━━━━━━━━━━━━━━━━━━━━\u001b[0m \u001b[32m196.7/196.7 kB\u001b[0m \u001b[31m1.5 MB/s\u001b[0m eta \u001b[36m0:00:00\u001b[0m\n",
            "\u001b[?25hCollecting aiofiles<1 (from asyncpraw)\n",
            "  Downloading aiofiles-0.8.0-py3-none-any.whl (13 kB)\n",
            "Requirement already satisfied: aiohttp<4 in /usr/local/lib/python3.10/dist-packages (from asyncpraw) (3.9.5)\n",
            "Collecting aiosqlite<=0.17.0 (from asyncpraw)\n",
            "  Downloading aiosqlite-0.17.0-py3-none-any.whl (15 kB)\n",
            "Collecting asyncprawcore<3,>=2.1 (from asyncpraw)\n",
            "  Downloading asyncprawcore-2.4.0-py3-none-any.whl (19 kB)\n",
            "Requirement already satisfied: update-checker>=0.18 in /usr/local/lib/python3.10/dist-packages (from asyncpraw) (0.18.0)\n",
            "Requirement already satisfied: aiosignal>=1.1.2 in /usr/local/lib/python3.10/dist-packages (from aiohttp<4->asyncpraw) (1.3.1)\n",
            "Requirement already satisfied: attrs>=17.3.0 in /usr/local/lib/python3.10/dist-packages (from aiohttp<4->asyncpraw) (23.2.0)\n",
            "Requirement already satisfied: frozenlist>=1.1.1 in /usr/local/lib/python3.10/dist-packages (from aiohttp<4->asyncpraw) (1.4.1)\n",
            "Requirement already satisfied: multidict<7.0,>=4.5 in /usr/local/lib/python3.10/dist-packages (from aiohttp<4->asyncpraw) (6.0.5)\n",
            "Requirement already satisfied: yarl<2.0,>=1.0 in /usr/local/lib/python3.10/dist-packages (from aiohttp<4->asyncpraw) (1.9.4)\n",
            "Requirement already satisfied: async-timeout<5.0,>=4.0 in /usr/local/lib/python3.10/dist-packages (from aiohttp<4->asyncpraw) (4.0.3)\n",
            "Requirement already satisfied: typing_extensions>=3.7.2 in /usr/local/lib/python3.10/dist-packages (from aiosqlite<=0.17.0->asyncpraw) (4.11.0)\n",
            "Requirement already satisfied: requests>=2.3.0 in /usr/local/lib/python3.10/dist-packages (from update-checker>=0.18->asyncpraw) (2.31.0)\n",
            "Requirement already satisfied: charset-normalizer<4,>=2 in /usr/local/lib/python3.10/dist-packages (from requests>=2.3.0->update-checker>=0.18->asyncpraw) (3.3.2)\n",
            "Requirement already satisfied: idna<4,>=2.5 in /usr/local/lib/python3.10/dist-packages (from requests>=2.3.0->update-checker>=0.18->asyncpraw) (3.7)\n",
            "Requirement already satisfied: urllib3<3,>=1.21.1 in /usr/local/lib/python3.10/dist-packages (from requests>=2.3.0->update-checker>=0.18->asyncpraw) (2.0.7)\n",
            "Requirement already satisfied: certifi>=2017.4.17 in /usr/local/lib/python3.10/dist-packages (from requests>=2.3.0->update-checker>=0.18->asyncpraw) (2024.2.2)\n",
            "Installing collected packages: aiosqlite, aiofiles, asyncprawcore, asyncpraw\n",
            "Successfully installed aiofiles-0.8.0 aiosqlite-0.17.0 asyncpraw-7.7.1 asyncprawcore-2.4.0\n"
          ]
        }
      ]
    },
    {
      "cell_type": "code",
      "source": [
        "import asyncpraw\n",
        "import pandas as pd\n",
        "import csv\n",
        "from datetime import datetime, timezone\n",
        "import asyncio\n",
        "\n",
        "def get_auth_credentials():\n",
        "    client_id = input(\"Enter Reddit client ID: \")\n",
        "    client_secret = input(\"Enter Reddit client secret: \")\n",
        "    user_agent = input(\"Enter Reddit user agent: \")\n",
        "    return client_id, client_secret, user_agent\n",
        "\n",
        "async def reddit_authenticate(client_id, client_secret, user_agent):\n",
        "    try:\n",
        "        reddit = asyncpraw.Reddit(\n",
        "            client_id=client_id,\n",
        "            client_secret=client_secret,\n",
        "            user_agent=user_agent\n",
        "        )\n",
        "        print(\"Authentication successful.\")\n",
        "        return reddit\n",
        "    except Exception as e:\n",
        "        print(f\"Authentication failed: {e}\")\n",
        "        exit(1)\n",
        "\n",
        "async def fetch_subreddit_posts(reddit, subreddit_name, limit=2000):\n",
        "    posts_data = []\n",
        "    try:\n",
        "        subreddit = await reddit.subreddit(subreddit_name)\n",
        "        async for submission in subreddit.new(limit=limit):\n",
        "            post_content = submission.selftext if submission.is_self else None\n",
        "            posts_data.append({\n",
        "                'author': str(submission.author),\n",
        "                'title': submission.title,\n",
        "                'comments': submission.num_comments,\n",
        "                'created_at': datetime.fromtimestamp(submission.created_utc, tz=timezone.utc),\n",
        "                'content': post_content,\n",
        "                'url': submission.url\n",
        "            })\n",
        "    except Exception as e:\n",
        "        print(f\"Error fetching posts for subreddit {subreddit_name}: {e}\")\n",
        "    return posts_data\n",
        "\n",
        "def display_posts(posts):\n",
        "    if posts:\n",
        "        df = pd.DataFrame(posts)\n",
        "        print(df.head(10))\n",
        "    else:\n",
        "        print(\"No posts found.\")\n",
        "\n",
        "def save_posts_to_csv(posts):\n",
        "    if not posts:\n",
        "        print(\"No posts to save.\")\n",
        "        return\n",
        "    filename = input(\"Enter filename (with .csv extension): \")\n",
        "    keys = posts[0].keys()\n",
        "    with open(filename, 'w', newline='', encoding='utf-8') as csvfile:\n",
        "        writer = csv.DictWriter(csvfile, fieldnames=keys)\n",
        "        writer.writeheader()\n",
        "        writer.writerows(posts)\n",
        "    print(f\"Posts saved to {filename}\")\n",
        "\n",
        "async def main():\n",
        "    client_id, client_secret, user_agent = get_auth_credentials()\n",
        "    reddit = await reddit_authenticate(client_id, client_secret, user_agent)\n",
        "\n",
        "    subreddit_name = input(\"Enter the target subreddit name: \")\n",
        "    posts = await fetch_subreddit_posts(reddit, subreddit_name)\n",
        "    display_posts(posts)\n",
        "    save_posts_to_csv(posts)\n",
        "\n",
        "if __name__ == \"__main__\":\n",
        "    try:\n",
        "        import nest_asyncio\n",
        "        nest_asyncio.apply()\n",
        "        asyncio.get_event_loop().run_until_complete(main())\n",
        "    except Exception as e:\n",
        "        print(f\"An error occurred: {e}\")\n"
      ],
      "metadata": {
        "collapsed": true,
        "id": "XfUIMkeRd4s6"
      },
      "execution_count": null,
      "outputs": []
    }
  ]
}